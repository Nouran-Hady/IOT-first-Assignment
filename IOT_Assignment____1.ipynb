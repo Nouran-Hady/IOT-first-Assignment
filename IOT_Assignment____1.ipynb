{
  "cells": [
    {
      "cell_type": "code",
      "execution_count": 6,
      "metadata": {
        "id": "yNPjbxtBtFIv"
      },
      "outputs": [],
      "source": [
        "def reverse_string(Str):\n",
        "    return Str[::1]"
      ]
    },
    {
      "cell_type": "code",
      "source": [
        "def word_count(sentence):\n",
        "    words = sentence.split()\n",
        "    return len(words)"
      ],
      "metadata": {
        "id": "ALdAaXxttQeQ"
      },
      "execution_count": 7,
      "outputs": []
    },
    {
      "cell_type": "code",
      "execution_count": 10,
      "metadata": {
        "colab": {
          "base_uri": "https://localhost:8080/",
          "height": 36
        },
        "id": "1tjn38Y4tFIw",
        "outputId": "31f74516-16da-4ec5-f959-62eaa5b2e708"
      },
      "outputs": [
        {
          "output_type": "execute_result",
          "data": {
            "text/plain": [
              "'Hello, This is Assignment 1'"
            ],
            "application/vnd.google.colaboratory.intrinsic+json": {
              "type": "string"
            }
          },
          "metadata": {},
          "execution_count": 10
        }
      ],
      "source": [
        "reverse_string(\"Hello, This is Assignment 1\")"
      ]
    },
    {
      "cell_type": "code",
      "source": [
        "word_count(\"This is a sample sentence for word counting\")"
      ],
      "metadata": {
        "colab": {
          "base_uri": "https://localhost:8080/"
        },
        "id": "A-qOqSfAtWvB",
        "outputId": "77dfad9e-293a-4d1e-f097-bfd5cea73807"
      },
      "execution_count": 11,
      "outputs": [
        {
          "output_type": "execute_result",
          "data": {
            "text/plain": [
              "8"
            ]
          },
          "metadata": {},
          "execution_count": 11
        }
      ]
    }
  ],
  "metadata": {
    "kernelspec": {
      "display_name": "Python 3",
      "language": "python",
      "name": "python3"
    },
    "language_info": {
      "codemirror_mode": {
        "name": "ipython",
        "version": 3
      },
      "file_extension": ".py",
      "mimetype": "text/x-python",
      "name": "python",
      "nbconvert_exporter": "python",
      "pygments_lexer": "ipython3",
      "version": "3.9.0"
    },
    "colab": {
      "provenance": []
    }
  },
  "nbformat": 4,
  "nbformat_minor": 0
}