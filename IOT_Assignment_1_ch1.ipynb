{
  "cells": [
    {
      "cell_type": "code",
      "execution_count": 1,
      "metadata": {
        "id": "PC3qW9Fi4Whi"
      },
      "outputs": [],
      "source": [
        "def calculate_sum(list_num):\n",
        "    sum=0\n",
        "    for i in range (len(list_num)):\n",
        "        sum=sum+list_num[i]\n",
        "    return sum"
      ]
    },
    {
      "cell_type": "code",
      "execution_count": 2,
      "metadata": {
        "id": "D57QoKdc4Whm"
      },
      "outputs": [],
      "source": [
        "def generate_fibonacci(N):\n",
        "    fib_sequence = [0, 1]\n",
        "\n",
        "    for i in range (N):\n",
        "        fib_sequence.append(fib_sequence[-1] + fib_sequence[-2])\n",
        "\n",
        "    return fib_sequence"
      ]
    },
    {
      "cell_type": "code",
      "execution_count": 3,
      "metadata": {
        "colab": {
          "base_uri": "https://localhost:8080/"
        },
        "id": "RNtB-oR14Whn",
        "outputId": "19600f24-c338-4a85-cf6f-b065c8cd03df"
      },
      "outputs": [
        {
          "output_type": "execute_result",
          "data": {
            "text/plain": [
              "15"
            ]
          },
          "metadata": {},
          "execution_count": 3
        }
      ],
      "source": [
        "calculate_sum([1,2,3,4,5])"
      ]
    },
    {
      "cell_type": "code",
      "execution_count": 4,
      "metadata": {
        "colab": {
          "base_uri": "https://localhost:8080/"
        },
        "id": "XoLyW8cH4Who",
        "outputId": "0dabbd2a-9bc9-477a-8564-cf55a35069c3"
      },
      "outputs": [
        {
          "output_type": "execute_result",
          "data": {
            "text/plain": [
              "[0, 1, 1, 2, 3, 5, 8, 13]"
            ]
          },
          "metadata": {},
          "execution_count": 4
        }
      ],
      "source": [
        "generate_fibonacci(6)"
      ]
    },
    {
      "cell_type": "code",
      "source": [
        "def reverse_string(Str):\n",
        "    return Str[::1]"
      ],
      "metadata": {
        "id": "q8PfTgVK4Zl7"
      },
      "execution_count": 5,
      "outputs": []
    },
    {
      "cell_type": "code",
      "source": [
        "def word_count(sentence):\n",
        "    words = sentence.split()\n",
        "    return len(words)"
      ],
      "metadata": {
        "id": "h4t6lrFO4aGI"
      },
      "execution_count": 6,
      "outputs": []
    },
    {
      "cell_type": "code",
      "source": [
        "reverse_string(\"Hello, This is Assignment 1\")"
      ],
      "metadata": {
        "colab": {
          "base_uri": "https://localhost:8080/",
          "height": 36
        },
        "id": "fNU38n8W4bb3",
        "outputId": "1f21ee82-6043-4ce7-c837-93797d457585"
      },
      "execution_count": 7,
      "outputs": [
        {
          "output_type": "execute_result",
          "data": {
            "text/plain": [
              "'Hello, This is Assignment 1'"
            ],
            "application/vnd.google.colaboratory.intrinsic+json": {
              "type": "string"
            }
          },
          "metadata": {},
          "execution_count": 7
        }
      ]
    },
    {
      "cell_type": "code",
      "source": [
        "word_count(\"This is a sample sentence for word counting\")"
      ],
      "metadata": {
        "colab": {
          "base_uri": "https://localhost:8080/"
        },
        "id": "eI3mVTbC4dS9",
        "outputId": "146f84c8-1e46-426f-f1fe-dad8780a1ed9"
      },
      "execution_count": 8,
      "outputs": [
        {
          "output_type": "execute_result",
          "data": {
            "text/plain": [
              "8"
            ]
          },
          "metadata": {},
          "execution_count": 8
        }
      ]
    }
  ],
  "metadata": {
    "kernelspec": {
      "display_name": "Python 3",
      "language": "python",
      "name": "python3"
    },
    "language_info": {
      "codemirror_mode": {
        "name": "ipython",
        "version": 3
      },
      "file_extension": ".py",
      "mimetype": "text/x-python",
      "name": "python",
      "nbconvert_exporter": "python",
      "pygments_lexer": "ipython3",
      "version": "3.9.0"
    },
    "colab": {
      "provenance": []
    }
  },
  "nbformat": 4,
  "nbformat_minor": 0
}