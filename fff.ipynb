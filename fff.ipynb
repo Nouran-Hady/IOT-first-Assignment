def check_prime(n):
    if n <= 1:
        return False 
    for i in range(2,9):
        if n % i == 0:
           return" it is not a prime number."

    return " it is  a prime number."  


check_prime(17)
