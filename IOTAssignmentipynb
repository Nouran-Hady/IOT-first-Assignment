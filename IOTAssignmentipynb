{
  "cells": [
    {
      "cell_type": "code",
      "source": [
        "def check_prime(n):\n",
        "    if n <= 1:\n",
        "        return False\n",
        "    for i in range(2,9):\n",
        "        if n % i == 0:\n",
        "           return\" it is not a prime number.\"\n",
        "\n",
        "    return \" it is  a prime number.\"\n",
        "\n",
        "\n"
      ],
      "metadata": {
        "id": "KUMPE6n6Rl9B"
      },
      "execution_count": 31,
      "outputs": []
    },
    {
      "cell_type": "code",
      "source": [
        "check_prime(17)"
      ],
      "metadata": {
        "colab": {
          "base_uri": "https://localhost:8080/",
          "height": 36
        },
        "id": "-my-dxp3SMS9",
        "outputId": "36386a5b-7382-4528-8acc-46c7e6a1ad28"
      },
      "execution_count": 32,
      "outputs": [
        {
          "output_type": "execute_result",
          "data": {
            "text/plain": [
              "' it is  a prime number.'"
            ],
            "application/vnd.google.colaboratory.intrinsic+json": {
              "type": "string"
            }
          },
          "metadata": {},
          "execution_count": 32
        }
      ]
    },
    {
      "cell_type": "code",
      "source": [
        "def calculate_average(numbers):\n",
        "\n",
        "    t = sum(numbers)\n",
        "    avg = t / len(numbers)\n",
        "    return avg\n"
      ],
      "metadata": {
        "id": "FzCftSA5SwR0"
      },
      "execution_count": 33,
      "outputs": []
    },
    {
      "cell_type": "code",
      "source": [
        "n = [10, 20, 30, 40, 50]\n",
        "calculate_average(n)\n"
      ],
      "metadata": {
        "colab": {
          "base_uri": "https://localhost:8080/"
        },
        "id": "JMO8mvSkTzVI",
        "outputId": "a9a85184-8ce2-49fc-da29-9011491f633e"
      },
      "execution_count": 34,
      "outputs": [
        {
          "output_type": "execute_result",
          "data": {
            "text/plain": [
              "30.0"
            ]
          },
          "metadata": {},
          "execution_count": 34
        }
      ]
    },
    {
      "cell_type": "code",
      "source": [
        "def count_vowels(n):\n",
        "    v = set(\"aeiouAEIOU\")\n",
        "    c = 0\n",
        "    for i in n:\n",
        "        if i in v:\n",
        "            c += 1\n",
        "\n",
        "    return c\n",
        "\n"
      ],
      "metadata": {
        "id": "OdwnNjfxT3v1"
      },
      "execution_count": 35,
      "outputs": []
    },
    {
      "cell_type": "code",
      "source": [
        "n=\"hellO\"\n",
        "count_vowels(n)"
      ],
      "metadata": {
        "colab": {
          "base_uri": "https://localhost:8080/"
        },
        "id": "zPsrWxGhUax9",
        "outputId": "199b4807-af1e-4c12-fce9-9a22cf299d66"
      },
      "execution_count": 36,
      "outputs": [
        {
          "output_type": "execute_result",
          "data": {
            "text/plain": [
              "2"
            ]
          },
          "metadata": {},
          "execution_count": 36
        }
      ]
    },
    {
      "cell_type": "code",
      "source": [],
      "metadata": {
        "id": "EfgOc9ShUzwm"
      },
      "execution_count": null,
      "outputs": []
    }
  ],
  "metadata": {
    "kernelspec": {
      "display_name": "Python 3",
      "language": "python",
      "name": "python3"
    },
    "language_info": {
      "codemirror_mode": {
        "name": "ipython",
        "version": 3
      },
      "file_extension": ".py",
      "mimetype": "text/x-python",
      "name": "python",
      "nbconvert_exporter": "python",
      "pygments_lexer": "ipython3",
      "version": "3.9.0"
    },
    "colab": {
      "provenance": []
    }
  },
  "nbformat": 4,
  "nbformat_minor": 0
}
